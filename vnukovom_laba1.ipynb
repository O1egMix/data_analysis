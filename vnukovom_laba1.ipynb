def dijkstra(graph, start):
    """
    Реализация алгоритма Дейкстры.
    :param graph: матрица смежности (список списков)
    :param start: индекс начальной вершины
    :return: два словаря: dist — кратчайшие расстояния и prev — предыдущие вершины
    """
    n = len(graph)
    dist = [float('inf')] * n
    prev = [None] * n
    dist[start] = 0

    unvisited = set(range(n))

    while unvisited:
        # выбираем вершину с минимальным расстоянием
        current = min(unvisited, key=lambda vertex: dist[vertex])
        unvisited.remove(current)

        for neighbor, weight in enumerate(graph[current]):
            if weight != 0:  # предполагается, что 0 означает отсутствие ребра
                alt = dist[current] + weight
                if alt < dist[neighbor]:
                    dist[neighbor] = alt
                    prev[neighbor] = current

    return dist, prev

# Пример использования
if __name__ == "__main__":
    # Зададим матрицу смежности для графа
    # 0 означает отсутствие ребра, положительные числа — веса рёбер
    graph = [
        [1, 5, 40, 5, 0, 34],
        [3, 5, 0, 34, 23, 7],
        [0, 22, 12, 45, 9, 8],
        [33, 0, 16, 3, 7, 4],
        [20, 5, 3, 1, 2, 5],
        [16, 2, 0, 13, 0, 6]
    ]

    start_vertex = 0
    distances, predecessors = dijkstra(graph, start_vertex)

    print("Кратчайшие расстояния от вершины", start_vertex)
    for i, d in enumerate(distances):
        print(f"До вершины {i}: {d}")

    # Восстановим путь до каждой вершины
    for target in range(len(graph)):
        path = []
        current = target
        while current is not None:
            path.append(current)
            current = predecessors[current]
        path.reverse()
        print(f"Путь до вершины {target}: {path}")
