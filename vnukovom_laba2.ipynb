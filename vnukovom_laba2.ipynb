﻿# Получить центральность для 30 узлов с пиком в середине и ямами по бокам
import numpy as np
import matplotlib.pyplot as plt

def generate_centrality(n=30, peak_scale=1.0, dip_depth=0.55, end_lift=0.25,
                        s_peak=0.18, s_dip=0.35, normalize="max"):
    x = np.linspace(-1, 1, n)
    peak = np.exp(-(x / s_peak) ** 2)
    wide = np.exp(-(x / s_dip) ** 2)
    y = peak_scale * peak - dip_depth * wide
    y += end_lift * np.abs(x)
    y = y - y.min()
    if normalize == "max":
        m = y.max()
        y = y / m if m > 0 else y
    elif normalize == "sum":
        s = y.sum()
        y = y / s if s > 0 else y
    return x, y

# Compute data
x, y = generate_centrality(n=30, dip_depth=0.55, end_lift=0.25, normalize="max")

# Plot: single chart, default matplotlib style and colors
plt.figure()
plt.plot(range(1, len(y)+1), y, marker='o')
plt.title("Центральность: центральный пик и боковые «ямы»")
plt.xlabel("Узел (индекс)")
plt.ylabel("Центральность (нормировано)")
plt.grid(True)
plt.show()